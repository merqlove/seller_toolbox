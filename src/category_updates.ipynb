{
 "cells": [
  {
   "cell_type": "code",
   "execution_count": null,
   "metadata": {
    "jupyter": {
     "source_hidden": true
    }
   },
   "outputs": [],
   "source": [
    "import csv\n",
    "import yaml\n",
    "import pandas as pd\n",
    "import openpyxl\n",
    "\n",
    "from collections import OrderedDict\n",
    "from scrapinghub import ScrapinghubClient"
   ]
  },
  {
   "cell_type": "code",
   "execution_count": null,
   "metadata": {
    "jupyter": {
     "source_hidden": true
    }
   },
   "outputs": [],
   "source": [
    "# загружаем конфиг\n",
    "with open('config.yaml') as f:\n",
    "    config = yaml.load(f, Loader=yaml.FullLoader)"
   ]
  },
  {
   "cell_type": "code",
   "execution_count": null,
   "metadata": {
    "jupyter": {
     "source_hidden": true
    }
   },
   "outputs": [],
   "source": [
    "def init_scrapinghub():\n",
    "    api_key = config['scrapinghub']['api_key']\n",
    "    project_id = config['scrapinghub']['project_id']\n",
    "\n",
    "    client = ScrapinghubClient(api_key)\n",
    "    project = client.get_project(project_id)\n",
    "\n",
    "    return {'client': client, 'project': project}\n",
    "\n",
    "\n",
    "def load_last_categories() -> list:\n",
    "    \"\"\"Export last two scraped WB categories for comparison\"\"\"\n",
    "    sh = init_scrapinghub()\n",
    "\n",
    "    jobs_summary = sh['project'].jobs.iter(has_tag=['daily_categories'], state='finished', count=2)\n",
    "\n",
    "    counter = 0\n",
    "    job_results = [[], []]\n",
    "\n",
    "    for job in jobs_summary:\n",
    "        job_results[counter] = []\n",
    "\n",
    "        for item in sh['client'].get_job(job['key']).items.iter():\n",
    "            job_results[counter].append({\n",
    "                'wb_category_name': item['wb_category_name'],\n",
    "                'wb_category_url': item['wb_category_url']\n",
    "            })\n",
    "\n",
    "        counter += 1\n",
    "\n",
    "    return job_results\n",
    "\n",
    "\n",
    "categories = load_last_categories()\n",
    "\n",
    "# for details see https://pythondata.com/quick-tip-comparing-two-pandas-dataframes-and-getting-the-differences/\n",
    "df1 = pd.DataFrame(categories[0], columns=['wb_category_name','wb_category_url'])\n",
    "df2 = pd.DataFrame(categories[1], columns=['wb_category_name','wb_category_url'])\n",
    "\n",
    "df = pd.concat([df1, df2]) # concat dataframes\n",
    "df = df.reset_index(drop=True) # reset the index\n",
    "df_gpby = df.groupby(list(df.columns)) #group by\n",
    "idx = [x[0] for x in df_gpby.groups.values() if len(x) == 1] #reindex\n",
    "\n",
    "print(len(idx))\n",
    "\n",
    "ri = df.reindex(idx)\n",
    "\n",
    "grouped = ri.groupby('wb_category_name', as_index=False).first()\n",
    "\n",
    "grouped.to_excel('data/new_categories.xlsx', index=None, header=True)"
   ]
  },
  {
   "cell_type": "code",
   "execution_count": null,
   "metadata": {
    "jupyter": {
     "source_hidden": true
    }
   },
   "outputs": [],
   "source": []
  }
 ],
 "metadata": {
  "kernelspec": {
   "display_name": "Python 3",
   "language": "python",
   "name": "python3"
  },
  "language_info": {
   "codemirror_mode": {
    "name": "ipython",
    "version": 3
   },
   "file_extension": ".py",
   "mimetype": "text/x-python",
   "name": "python",
   "nbconvert_exporter": "python",
   "pygments_lexer": "ipython3",
   "version": "3.8.0"
  }
 },
 "nbformat": 4,
 "nbformat_minor": 4
}
